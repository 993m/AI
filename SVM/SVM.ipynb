{
 "cells": [
  {
   "cell_type": "code",
   "execution_count": null,
   "id": "2d936d88-6e77-4a5f-8e31-3509decf2756",
   "metadata": {},
   "outputs": [],
   "source": [
    "# C = 10, kernel = 'linear', train_images[:200]                  -    0.79442\n",
    "# C = 10, kernel = 'linear', train_images[:2000]                 -    0.89975\n",
    "# C = 10, kernel = 'linear', train_images[:20000]                -    0.90882\n",
    "# C = 10, kernel = 'rbf', gamma='scale', train_images[:20000]    -    0.97446"
   ]
  },
  {
   "cell_type": "code",
   "execution_count": null,
   "id": "bcace4ec-62ba-4547-8045-03a0e757cefa",
   "metadata": {},
   "outputs": [],
   "source": [
    "from sklearn import svm\n",
    "import pandas as pd \n",
    "import numpy as np\n",
    "import csv"
   ]
  },
  {
   "cell_type": "code",
   "execution_count": null,
   "id": "8efbf2d3-55b6-40ff-936e-406b59833573",
   "metadata": {},
   "outputs": [],
   "source": [
    "train_images = pd.read_csv('data/train.csv').to_numpy()\n",
    "test_images = pd.read_csv('data/test.csv').to_numpy()"
   ]
  },
  {
   "cell_type": "code",
   "execution_count": null,
   "id": "04fbb5bb-7818-4fc4-81d4-5779e935b56e",
   "metadata": {},
   "outputs": [],
   "source": [
    "train_labels = train_images[:, 0]\n",
    "train_images = train_images[:, 1:]"
   ]
  },
  {
   "cell_type": "code",
   "execution_count": null,
   "id": "33e99d54-60d9-4436-b77e-693dfa439afd",
   "metadata": {},
   "outputs": [],
   "source": [
    "# svm_model = svm.SVC(C=10, kernel='linear')\n",
    "svm_model = svm.SVC(C=10, kernel='rbf', gamma='scale')\n",
    "svm_model.fit(train_images, train_labels)\n",
    "predicted_labels = svm_model.predict(test_images)"
   ]
  },
  {
   "cell_type": "code",
   "execution_count": null,
   "id": "dbf586ed-a948-4f73-892d-f2923d851f56",
   "metadata": {},
   "outputs": [],
   "source": [
    "file = open('submission.csv', 'w')\n",
    "writer = csv.writer(file)\n",
    "\n",
    "writer.writerow([\"ImageId\",\"Label\"])\n",
    "for i in range(len(predicted_labels)):\n",
    "    writer.writerow([i+1, int(predicted_labels[i])])\n",
    "\n",
    "file.close()"
   ]
  }
 ],
 "metadata": {
  "kernelspec": {
   "display_name": "Python 3 (ipykernel)",
   "language": "python",
   "name": "python3"
  },
  "language_info": {
   "codemirror_mode": {
    "name": "ipython",
    "version": 3
   },
   "file_extension": ".py",
   "mimetype": "text/x-python",
   "name": "python",
   "nbconvert_exporter": "python",
   "pygments_lexer": "ipython3",
   "version": "3.10.9"
  }
 },
 "nbformat": 4,
 "nbformat_minor": 5
}
