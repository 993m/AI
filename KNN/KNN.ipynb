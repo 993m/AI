{
 "cells": [
  {
   "cell_type": "code",
   "execution_count": 1,
   "id": "53b4c5d5-7604-4213-bb2d-d9332696df06",
   "metadata": {},
   "outputs": [],
   "source": [
    "import numpy as np\n",
    "import pandas as pd \n",
    "import math\n",
    "import csv"
   ]
  },
  {
   "cell_type": "code",
   "execution_count": 2,
   "id": "9b08d189-bbf0-475c-9360-e5df7fad3a93",
   "metadata": {},
   "outputs": [],
   "source": [
    "train_images = pd.read_csv('data/train.csv').to_numpy()\n",
    "test_images = pd.read_csv('data/test.csv').to_numpy()"
   ]
  },
  {
   "cell_type": "code",
   "execution_count": 3,
   "id": "69bf493e-3869-421c-b5a9-45d20ecf8479",
   "metadata": {},
   "outputs": [],
   "source": [
    "train_labels = train_images[:, 0]\n",
    "train_images = train_images[:, 1:]"
   ]
  },
  {
   "cell_type": "code",
   "execution_count": 4,
   "id": "9fac9a33-daff-4b00-830e-75193c80505e",
   "metadata": {
    "tags": []
   },
   "outputs": [],
   "source": [
    "class Knn_classifier:\n",
    "    \n",
    "    def __init__(self, train_images, train_labels):\n",
    "        self.train_images = train_images\n",
    "        self.train_labels = train_labels\n",
    "    \n",
    "    def classify_image(self, test_image, num_neighbors = 3, metric = 'l2'): \n",
    "     \n",
    "        if(metric == 'l2'):   \n",
    "            distances = np.sqrt(np.sum((self.train_images - test_image) ** 2, axis = 1))\n",
    "        elif(metric == 'l1'):\n",
    "            distances = np.sum(abs(self.train_images - test_image), axis = 1)\n",
    "        else:\n",
    "            print('Error! Metric {} is not defined!'.format(metric))\n",
    "            \n",
    "        sort_index = np.argsort(distances)\n",
    "        sort_index = sort_index[:num_neighbors]\n",
    "        nearest_labels = self.train_labels[sort_index]\n",
    "        histc = np.bincount(nearest_labels)\n",
    "        \n",
    "        return np.argmax(histc)\n",
    "    \n",
    "              \n",
    "    def classify_images(self, test_images, num_neighbors = 3, metric = 'l2'):\n",
    "        num_test_images = test_images.shape[0] \n",
    "        predicted_labels = np.zeros((num_test_images))\n",
    "        \n",
    "        for i in range(num_test_images): \n",
    "            predicted_labels[i] = self.classify_image(test_images[i, :], num_neighbors = num_neighbors, metric = metric)\n",
    "        \n",
    "        return predicted_labels"
   ]
  },
  {
   "cell_type": "code",
   "execution_count": 5,
   "id": "cf606895-2a9e-406f-b00e-d597246d5e52",
   "metadata": {},
   "outputs": [],
   "source": [
    "classifier = Knn_classifier(train_images, train_labels)"
   ]
  },
  {
   "cell_type": "code",
   "execution_count": 6,
   "id": "d6336f2f-a7b5-43d8-9c51-82e4bdf7f132",
   "metadata": {},
   "outputs": [],
   "source": [
    "k = int(math.sqrt(test_images.shape[0]))"
   ]
  },
  {
   "cell_type": "code",
   "execution_count": null,
   "id": "e00c1367-4746-4cd0-b8a4-266ad65ec6df",
   "metadata": {},
   "outputs": [],
   "source": [
    "predicted_labels = classifier.classify_images(test_images, k, 'l2')"
   ]
  },
  {
   "cell_type": "code",
   "execution_count": null,
   "id": "4ba1a78d-2e90-4ab4-8868-e09cc13691be",
   "metadata": {},
   "outputs": [],
   "source": [
    "file = open('submission.csv', 'w')\n",
    "writer = csv.writer(file)\n",
    "\n",
    "writer.writerow([\"ImageId\",\"Label\"])\n",
    "for i in range(len(predicted_labels)):\n",
    "    writer.writerow([i+1, int(predicted_labels[i])])\n",
    "\n",
    "file.close()"
   ]
  }
 ],
 "metadata": {
  "kernelspec": {
   "display_name": "Python 3 (ipykernel)",
   "language": "python",
   "name": "python3"
  },
  "language_info": {
   "codemirror_mode": {
    "name": "ipython",
    "version": 3
   },
   "file_extension": ".py",
   "mimetype": "text/x-python",
   "name": "python",
   "nbconvert_exporter": "python",
   "pygments_lexer": "ipython3",
   "version": "3.10.9"
  }
 },
 "nbformat": 4,
 "nbformat_minor": 5
}
