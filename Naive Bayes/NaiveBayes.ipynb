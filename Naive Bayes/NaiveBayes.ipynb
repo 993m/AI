{
 "cells": [
  {
   "cell_type": "code",
   "execution_count": null,
   "id": "ce24a773-16b6-4994-833c-1c469f472b68",
   "metadata": {},
   "outputs": [],
   "source": [
    "# num_bins = 7  => 0.82753\n",
    "# num_bins = 9  => 0.82717"
   ]
  },
  {
   "cell_type": "code",
   "execution_count": 56,
   "id": "efd5be84-cbbc-4d4e-bd61-f9fcbe464e53",
   "metadata": {},
   "outputs": [],
   "source": [
    "import numpy as np\n",
    "import pandas as pd \n",
    "from sklearn.naive_bayes import MultinomialNB\n",
    "import csv"
   ]
  },
  {
   "cell_type": "code",
   "execution_count": 37,
   "id": "2827363b-1f6e-4b51-a2d6-56a7ccf749a9",
   "metadata": {},
   "outputs": [],
   "source": [
    "train_images = pd.read_csv('data/train.csv').to_numpy()\n",
    "test_images = pd.read_csv('data/test.csv').to_numpy()"
   ]
  },
  {
   "cell_type": "code",
   "execution_count": 15,
   "id": "100c8720-d734-49b1-be6c-6ebf84bc11ed",
   "metadata": {
    "tags": []
   },
   "outputs": [
    {
     "name": "stdout",
     "output_type": "stream",
     "text": [
      "[[1 0 0 ... 0 0 0]\n",
      " [0 0 0 ... 0 0 0]\n",
      " [1 0 0 ... 0 0 0]\n",
      " ...\n",
      " [7 0 0 ... 0 0 0]\n",
      " [6 0 0 ... 0 0 0]\n",
      " [9 0 0 ... 0 0 0]]\n"
     ]
    }
   ],
   "source": [
    "print(train_images)"
   ]
  },
  {
   "cell_type": "code",
   "execution_count": 38,
   "id": "87689776-4f62-4efe-ab3d-5a1dd3106085",
   "metadata": {},
   "outputs": [],
   "source": [
    "train_labels = train_images[:, 0]\n",
    "train_images = train_images[:, 1:]"
   ]
  },
  {
   "cell_type": "code",
   "execution_count": 39,
   "id": "34fa019e-b3fa-4f27-a741-6e4ddc9d9682",
   "metadata": {},
   "outputs": [
    {
     "name": "stdout",
     "output_type": "stream",
     "text": [
      "[1 0 1 ... 7 6 9]\n",
      "[[0 0 0 ... 0 0 0]\n",
      " [0 0 0 ... 0 0 0]\n",
      " [0 0 0 ... 0 0 0]\n",
      " ...\n",
      " [0 0 0 ... 0 0 0]\n",
      " [0 0 0 ... 0 0 0]\n",
      " [0 0 0 ... 0 0 0]]\n"
     ]
    }
   ],
   "source": [
    "print(train_labels)\n",
    "print(train_images)"
   ]
  },
  {
   "cell_type": "code",
   "execution_count": 40,
   "id": "8286f09b-9125-4dea-8084-6eead385f744",
   "metadata": {},
   "outputs": [],
   "source": [
    "def values_to_bins(x, bins): \n",
    "    x = np.digitize(x, bins)    \n",
    "    return x - 1"
   ]
  },
  {
   "cell_type": "code",
   "execution_count": 65,
   "id": "3c2c97ef-2dc4-4ab5-96e3-e9698c96dad4",
   "metadata": {},
   "outputs": [],
   "source": [
    "num_bins = 7\n",
    "bins = np.linspace(0, 255, num=num_bins)  "
   ]
  },
  {
   "cell_type": "code",
   "execution_count": 66,
   "id": "6f8a8a22-b850-496b-9c4b-a949cbdc0dd5",
   "metadata": {},
   "outputs": [
    {
     "data": {
      "text/plain": [
       "array([  0.   ,  31.875,  63.75 ,  95.625, 127.5  , 159.375, 191.25 ,\n",
       "       223.125, 255.   ])"
      ]
     },
     "execution_count": 66,
     "metadata": {},
     "output_type": "execute_result"
    }
   ],
   "source": [
    "bins"
   ]
  },
  {
   "cell_type": "code",
   "execution_count": 67,
   "id": "623a5b51-25f6-41a3-a574-ee43b0080ca2",
   "metadata": {},
   "outputs": [],
   "source": [
    "x_train = values_to_bins(train_images, bins) \n",
    "x_test = values_to_bins(test_images, bins)  "
   ]
  },
  {
   "cell_type": "code",
   "execution_count": 68,
   "id": "1e7016a8-cb14-4e80-a2f3-2d1fdc7f0487",
   "metadata": {},
   "outputs": [],
   "source": [
    "clf = MultinomialNB()\n",
    "clf.fit(x_train, train_labels)\n",
    "predicted_labels = clf.predict(x_test)"
   ]
  },
  {
   "cell_type": "code",
   "execution_count": 70,
   "id": "233c76fc-d869-47ee-92f5-9f750b804d7a",
   "metadata": {},
   "outputs": [],
   "source": [
    "file = open('submission.csv', 'w')\n",
    "writer = csv.writer(file)\n",
    "\n",
    "writer.writerow([\"ImageId\",\"Label\"])\n",
    "for i in range(len(predicted_labels)):\n",
    "    writer.writerow([i+1, predicted_labels[i]])\n",
    "\n",
    "file.close()"
   ]
  }
 ],
 "metadata": {
  "kernelspec": {
   "display_name": "Python 3 (ipykernel)",
   "language": "python",
   "name": "python3"
  },
  "language_info": {
   "codemirror_mode": {
    "name": "ipython",
    "version": 3
   },
   "file_extension": ".py",
   "mimetype": "text/x-python",
   "name": "python",
   "nbconvert_exporter": "python",
   "pygments_lexer": "ipython3",
   "version": "3.10.9"
  }
 },
 "nbformat": 4,
 "nbformat_minor": 5
}
